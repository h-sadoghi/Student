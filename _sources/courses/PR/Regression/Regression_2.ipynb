{
 "cells": [
  {
   "cell_type": "markdown",
   "metadata": {},
   "source": [
    "# Regression"
   ]
  },
  {
   "cell_type": "markdown",
   "metadata": {},
   "source": [
    "## Table of Contents of Regression\n",
    "- [Introduction of Regression](../Regression/Introduction_Regression.ipynb)\n",
    "- [Linear Regression](../Regression/Regression_1.ipynb)\n",
    "- [Non-linear Regression: The starting point](../Regression/NonLinearRegression.ipynb)\n",
    "    - [Linearization](../Regression/Linearization.ipynb)\n",
    "    - [Kernel method](../Regression/Kernel_for_Regression.ipynb)\n",
    "    - [Solution Method](../Regression/Solution_for_Regression.ipynb)\n",
    "- [Evaluation and Model Selection](../Regression/EvaluationModelSelection.ipynb)\n",
    "- [Applications in Pattern Recognition](../Regression/ApplicationsPatternRecognition.ipynb)"
   ]
  }
 ],
 "metadata": {
  "language_info": {
   "name": "python"
  }
 },
 "nbformat": 4,
 "nbformat_minor": 2
}
